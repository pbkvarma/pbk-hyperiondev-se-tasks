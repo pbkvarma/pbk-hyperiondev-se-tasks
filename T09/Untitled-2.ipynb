{
 "cells": [
  {
   "cell_type": "code",
   "execution_count": 8,
   "metadata": {},
   "outputs": [
    {
     "ename": "FileNotFoundError",
     "evalue": "[Errno 2] No such file or directory: 'equation.txt'",
     "output_type": "error",
     "traceback": [
      "\u001b[1;31m---------------------------------------------------------------------------\u001b[0m",
      "\u001b[1;31mFileNotFoundError\u001b[0m                         Traceback (most recent call last)",
      "\u001b[1;32mc:\\Users\\User\\Desktop\\Bh\\Hyperion-dev\\T09\\Untitled-2.ipynb Cell 1'\u001b[0m in \u001b[0;36m<cell line: 1>\u001b[1;34m()\u001b[0m\n\u001b[1;32m----> <a href='vscode-notebook-cell:/c%3A/Users/User/Desktop/Bh/Hyperion-dev/T09/Untitled-2.ipynb#ch0000000?line=0'>1</a>\u001b[0m \u001b[39mwith\u001b[39;00m \u001b[39mopen\u001b[39;49m(\u001b[39m'\u001b[39;49m\u001b[39mequation.txt\u001b[39;49m\u001b[39m'\u001b[39;49m, \u001b[39m'\u001b[39;49m\u001b[39mr\u001b[39;49m\u001b[39m'\u001b[39;49m) \u001b[39mas\u001b[39;00m new_file:\n\u001b[0;32m      <a href='vscode-notebook-cell:/c%3A/Users/User/Desktop/Bh/Hyperion-dev/T09/Untitled-2.ipynb#ch0000000?line=1'>2</a>\u001b[0m     \u001b[39mprint\u001b[39m(new_file\u001b[39m.\u001b[39mread())\n",
      "\u001b[1;31mFileNotFoundError\u001b[0m: [Errno 2] No such file or directory: 'equation.txt'"
     ]
    }
   ],
   "source": [
    "with open('equation.txt', 'r') as new_file:\n",
    "    print(new_file.read())\n",
    "            # for line in new_file:\n",
    "            #     #split() method splits a line of string into elements while removing '\\n'\n",
    "            #     file_list = line.split()\n",
    "            #     print(file_list + '\\n')"
   ]
  },
  {
   "cell_type": "code",
   "execution_count": 11,
   "metadata": {},
   "outputs": [
    {
     "name": "stdout",
     "output_type": "stream",
     "text": [
      "2\n"
     ]
    }
   ],
   "source": [
    "a = 2%3\n",
    "print(a)\n"
   ]
  },
  {
   "cell_type": "code",
   "execution_count": 16,
   "metadata": {},
   "outputs": [
    {
     "name": "stdout",
     "output_type": "stream",
     "text": [
      "\n",
      "Sorry! The 'equations' text file does not exist\n",
      "\n",
      "\n",
      " Try again, this time type file name correctly.\n",
      "3 + 5 = 8\n",
      "3.0 - 2.0 = 1.0\n",
      "3.0 / 3.0 = 1.0\n",
      "2.0 / 2.0 = 1.0\n",
      "2.0 / 1.0 = 2.0\n",
      "2.0 / 1.0 = 2.0\n",
      "2.0 / 1.0 = 2.0\n",
      "2.0 % 3.0 = 2.0\n",
      "\n"
     ]
    }
   ],
   "source": [
    "try:\n",
    "    def eq_file_print():\n",
    "        user_choice = input(\"\\nWould you like to see equations from existing file? 'y' for yes/'n' for no: \")\n",
    "        file_name = input(\"\\nType existing file name as --> equations.text: \")\n",
    "        if user_choice.lower() == 'y':\n",
    "            with open(file_name, 'r') as eq_file:\n",
    "                #if error == 'FileNotFoundError':\n",
    "                    print(eq_file.read())\n",
    "    eq_file_print()\n",
    "except FileNotFoundError:\n",
    "    print(\"\\nSorry! The 'equations' text file does not exist\")\n",
    "    print(\"\\n Try again, this time type file name correctly.\")\n",
    "    eq_file_print()\n",
    "\n",
    "        "
   ]
  },
  {
   "cell_type": "code",
   "execution_count": 32,
   "metadata": {},
   "outputs": [
    {
     "name": "stdout",
     "output_type": "stream",
     "text": [
      "[['cxjhjc', 'kdkf', 'jfkjkfj'], ['fkf', 'kkjfjk', 'kfjfk']]\n",
      "['fkf', 'kkjfjk', 'kfjfk']\n"
     ]
    },
    {
     "data": {
      "text/plain": [
       "(None, None)"
      ]
     },
     "execution_count": 32,
     "metadata": {},
     "output_type": "execute_result"
    }
   ],
   "source": [
    "inbox = []\n",
    "def populate_inbox(inbox):\n",
    "    for i in range(2):\n",
    "        email_address = input(\"\\nPlease enter your email address: \")\n",
    "        subject_line = input(\"\\nType in the subject: \\n\")\n",
    "        contents = input(\"\\nType in email content: \\n\")\n",
    "        email = [email_address, subject_line, contents]\n",
    "        inbox.append(email)\n",
    "\n",
    "    return print(inbox), print(inbox[1])\n",
    "\n",
    "populate_inbox(inbox)\n"
   ]
  },
  {
   "cell_type": "code",
   "execution_count": 35,
   "metadata": {},
   "outputs": [
    {
     "ename": "TypeError",
     "evalue": "int() argument must be a string, a bytes-like object or a real number, not 'type'",
     "output_type": "error",
     "traceback": [
      "\u001b[1;31m---------------------------------------------------------------------------\u001b[0m",
      "\u001b[1;31mTypeError\u001b[0m                                 Traceback (most recent call last)",
      "\u001b[1;32mc:\\Users\\User\\Desktop\\Bh\\Hyperion-dev\\T09\\Untitled-2.ipynb Cell 5'\u001b[0m in \u001b[0;36m<cell line: 1>\u001b[1;34m()\u001b[0m\n\u001b[1;32m----> <a href='vscode-notebook-cell:/c%3A/Users/User/Desktop/Bh/Hyperion-dev/T09/Untitled-2.ipynb#ch0000004?line=0'>1</a>\u001b[0m \u001b[39mint\u001b[39;49m(\u001b[39mtype\u001b[39;49m(\u001b[39m\"\u001b[39;49m\u001b[39m%\u001b[39;49m\u001b[39m\"\u001b[39;49m))\n",
      "\u001b[1;31mTypeError\u001b[0m: int() argument must be a string, a bytes-like object or a real number, not 'type'"
     ]
    }
   ],
   "source": []
  }
 ],
 "metadata": {
  "interpreter": {
   "hash": "afb734500600fd355917ca529030176ea0ca205570884b88f2f6f7d791fd3fbe"
  },
  "kernelspec": {
   "display_name": "Python 3.10.4 64-bit",
   "language": "python",
   "name": "python3"
  },
  "language_info": {
   "codemirror_mode": {
    "name": "ipython",
    "version": 3
   },
   "file_extension": ".py",
   "mimetype": "text/x-python",
   "name": "python",
   "nbconvert_exporter": "python",
   "pygments_lexer": "ipython3",
   "version": "3.10.4"
  },
  "orig_nbformat": 4
 },
 "nbformat": 4,
 "nbformat_minor": 2
}
